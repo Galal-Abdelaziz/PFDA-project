{
 "cells": [
  {
   "cell_type": "markdown",
   "metadata": {},
   "source": [
    "# Divvy Trips Data set analysis\n",
    "\n",
    "Author: Galal Abdelaziz\n",
    "\n",
    "This notebook presents my findings of the [Divvy Trips 2019_Q1 dataset](https://divvy-tripdata.s3.amazonaws.com/index.html) analysis for the __Programming For Data Analytics__ project, at [ATU](https://www.atu.ie/).\n",
    "\n",
    "***\n",
    "\n",
    "![Banner](img/divvy.jpg)"
   ]
  },
  {
   "cell_type": "markdown",
   "metadata": {},
   "source": [
    "## Divvy Trips 2019 Q1 Analysis:"
   ]
  },
  {
   "cell_type": "markdown",
   "metadata": {},
   "source": [
    "![1](img/1.png)"
   ]
  },
  {
   "cell_type": "markdown",
   "metadata": {},
   "source": [
    "This chart displays the distribution of Divvy bike trips between **Male** and **Female** riders. Male riders significantly outnumber female riders in terms of trip frequency, indicating a potential gender disparity in Divvy bike usage."
   ]
  },
  {
   "cell_type": "markdown",
   "metadata": {},
   "source": [
    "![2](img/2.png)"
   ]
  },
  {
   "cell_type": "markdown",
   "metadata": {},
   "source": [
    "This chart highlights the distribution of Divvy bike trips based on user type. **Subscribers** account for the overwhelming majority of trips, while casual **Customers** (one-day passes) represent a small fraction. This suggests that regular, subscription-based users dominate the service's utilization."
   ]
  },
  {
   "cell_type": "markdown",
   "metadata": {},
   "source": [
    "![3](img/3.png)\n"
   ]
  },
  {
   "cell_type": "markdown",
   "metadata": {},
   "source": [
    "This chart highlights the average trip duration based on user gender. **Female** users have an average trip duration of approximately **15 minutes**, while **Male** users average around **14 minutes**. This suggests that female users tend to have slightly longer trips compared to male users."
   ]
  },
  {
   "cell_type": "markdown",
   "metadata": {},
   "source": [
    "![4](img/4.png)"
   ]
  },
  {
   "cell_type": "markdown",
   "metadata": {},
   "source": [
    "This chart highlights the average trip duration based on user type. **Customers** (one-day passes) have a significantly longer average trip duration of approximately 36 minutes, while **Subscribers** average around 12 minutes. This suggests that casual, non-subscriber users tend to take longer trips compared to regular, subscription-based users."
   ]
  },
  {
   "cell_type": "markdown",
   "metadata": {},
   "source": [
    "![5](img/5.png)\n"
   ]
  },
  {
   "cell_type": "markdown",
   "metadata": {},
   "source": [
    "The chart shows the distribution of Divvy bike trips across the days of the week. **Weekdays**, particularly Thursday and Friday, see the highest number of trips, indicating a strong correlation with commuter or workday usage. In contrast, **weekends** (Saturday and Sunday) exhibit a noticeable decline in bike usage, suggesting less frequent trips during leisure days."
   ]
  },
  {
   "cell_type": "markdown",
   "metadata": {},
   "source": [
    "![6](img/6.png)\n"
   ]
  },
  {
   "cell_type": "markdown",
   "metadata": {},
   "source": [
    "This chart highlights the peak usage times for Divvy bikes. The highest bike usage occurs at 17:00 (5 PM), with nearly 50,000 trips. A significant surge is also seen at 8:00 (8 AM), with around 35,000 trips. After the 17:00 peak, usage decreases steadily, becoming minimal after 21:00 (9 PM). Moderate usage is recorded between 10:00 (10 AM) and 14:00 (2 PM), while early morning hours (0:00 to 5:00) show very low usage."
   ]
  },
  {
   "cell_type": "markdown",
   "metadata": {},
   "source": [
    "![7](img/7.png)\n"
   ]
  },
  {
   "cell_type": "markdown",
   "metadata": {},
   "source": [
    "This chart highlights the peak trip times for Divvy bike riders segmented by gender. Female riders exhibit a moderate peak at 07:00 (7 AM) and another noticeable peak at 17:00 (5 PM). Male riders show a significant peak at 08:00 (8 AM), followed by another prominent surge at 17:00 (5 PM). Overall, males have a higher number of trips compared to females, particularly during these peak commute hours. Both genders demonstrate trip patterns concentrated around typical morning and evening commute times.\n"
   ]
  },
  {
   "cell_type": "markdown",
   "metadata": {},
   "source": [
    "![8](img/8.png)\n"
   ]
  },
  {
   "cell_type": "markdown",
   "metadata": {},
   "source": [
    "This chart highlights the age distribution of Divvy bike users. The largest user group is in their early 30s, with a peak around age 30. The distribution is right-skewed, indicating a higher concentration of younger users compared to older ones. Users range in age from approximately 20 to 80 years, with a noticeable decline in the number of users as age increases beyond 40. Fewer users are found in the 60+ age group.\n"
   ]
  },
  {
   "cell_type": "markdown",
   "metadata": {},
   "source": [
    "![9](img/9.png)\n"
   ]
  },
  {
   "cell_type": "markdown",
   "metadata": {},
   "source": [
    "This chart highlights the **most frequently used bikes** in Q1 2019. Each bar represents a specific Bike ID and the number of trips it completed during the first quarter. The top ten bikes all recorded over 200 trips, showcasing their heavy utilization compared to other bikes in the fleet. This visualization underscores the demand and efficiency of these high-performing bikes within the Divvy system.\n"
   ]
  },
  {
   "cell_type": "markdown",
   "metadata": {},
   "source": [
    "![10](img/10.png)\n"
   ]
  },
  {
   "cell_type": "markdown",
   "metadata": {},
   "source": [
    "The first plot highlights the **most popular start stations** for Divvy bike trips in Q1 2019. **Clinton St & Washington Blvd** stands out as the top starting location, followed by **Clinton St & Madison St** and **Canal St & Adams St**. These stations are primarily located in central business districts, indicating their popularity among commuters and urban travelers.\n",
    "\n",
    "The second plot showcases the **most popular end stations**, which largely mirror the trends seen in the starting stations. **Clinton St & Washington Blvd** is again the most frequent destination, followed by **Clinton St & Madison St** and **Canal St & Adams St**. This consistency suggests that many trips begin and end in central hubs, emphasizing their importance in the Divvy network.\n",
    "\n",
    "The third plot focuses on the **most popular routes** during Q1 2019. The route from **Michigan Ave & Washington St** to **Clinton St & Washington Blvd** ranks as the most frequently traveled. Other highly used routes also connect central locations, reflecting a strong demand for short commutes within downtown areas. These patterns underline the role of Divvy bikes in facilitating urban mobility.\n"
   ]
  },
  {
   "cell_type": "markdown",
   "metadata": {},
   "source": [
    "![11](img/11.png)\n"
   ]
  },
  {
   "cell_type": "markdown",
   "metadata": {},
   "source": [
    "The first plot highlights the **least popular start stations** for Divvy bike trips in the provided data. **State St & 76th St** recorded the lowest number of trips, followed by **Kostner Ave & Lake St** and **South Chicago Ave & Elliot Ave**. Other underutilized start stations include **Ashland Ave & Garfield Blvd** and **Central Ave & Chicago Ave**. These locations are situated away from central business districts, which may explain their lower usage.\n",
    "\n",
    "The second plot showcases the **least popular end stations**, which exhibit similar trends to the start stations. **Halsted St & 69th St** recorded the fewest trips, followed by **Phillips Ave & 79th St** and **State St & 76th St**. Other low-usage end stations include **Vernon Ave & 79th St** and **Ashland Ave & Garfield Blvd**, indicating that these areas may lack strong demand or connectivity within the Divvy network.\n",
    "\n",
    "The third plot focuses on the **least popular routes** within the system. The route from **Keystone Ave & Fullerton Ave** to **Central Park Ave & North Ave** ranks as the least traveled, followed by routes such as **Larrabee St & Kingsbury St** to **Pine Grove Ave & Irving Park Rd** and **Clinton St & Jackson Blvd** to **Indiana Ave & 40th St**. Other rarely used routes include **Central St & Girard Ave** to **Eastlake Ter & Rogers Ave** and **Calumet Ave & 18th St** to **Clark St & Elm St**. These patterns suggest that these routes may not align well with user needs or popular destinations.\n"
   ]
  },
  {
   "cell_type": "markdown",
   "metadata": {},
   "source": [
    "![12](img/12.png)"
   ]
  },
  {
   "cell_type": "markdown",
   "metadata": {},
   "source": [
    "This plot illustrates the relationship between user age (in years) and trip duration (in minutes). The data points are spread across a wide range of ages and trip durations, with the majority of trips clustered between 0 and 60 minutes. Despite this, there is no clear upward or downward trend in the scatter of points, suggesting that age does not have a strong influence on trip duration. A red horizontal line at around 10 minutes highlights a potential reference or average trip duration, but overall, the plot indicates that age and trip duration are not strongly correlated."
   ]
  },
  {
   "cell_type": "markdown",
   "metadata": {},
   "source": [
    "## Divvy Trips 2019 Q1 Insights and Recommendations:"
   ]
  },
  {
   "cell_type": "markdown",
   "metadata": {},
   "source": [
    "**Key Trends and Findings**:  \n",
    "\n",
    "***\n",
    "\n",
    "1. **Trip Usage Patterns**:  \n",
    "   - **Gender Disparity**: Male riders significantly outnumber female riders, indicating a potential gender gap in Divvy bike usage. This finding could inform targeted initiatives to encourage more diverse participation.  \n",
    "   - **User Type Distribution**: Subscribers dominate the usage of Divvy bikes, comprising the overwhelming majority of trips. This emphasizes the system's reliance on regular users rather than casual customers.  \n",
    "   - **Trip Duration by User Type and Gender**:  \n",
    "     - Customers (who hold one-day passes) tend to take longer trips (average of 36 minutes) compared to subscribers (average of 12 minutes), suggesting that casual users may use bikes for leisure or longer excursions.  \n",
    "     - Female users have a slightly higher average trip duration (15 minutes) compared to male users (14 minutes), though the difference is minimal.  \n",
    "\n",
    "***\n",
    "\n",
    "2. **Temporal Trends**:  \n",
    "   - **Day of the Week**: Peak usage occurs on weekdays, especially on Thursday and Friday, correlating with commuter traffic. Weekends see a noticeable decline, reflecting reduced demand for commuting purposes.  \n",
    "   - **Peak Hours**: Usage spikes significantly during morning (8 AM) and evening (5 PM) rush hours, underscoring the role of Divvy bikes in urban commuting. Minimal usage is observed during late-night hours (12 AM to 5 AM).  \n",
    "\n",
    "***\n",
    "\n",
    "3. **User Demographics**:  \n",
    "   - The largest age group of users is in their early 30s, with a sharp decline in usage as age increases beyond 40. Few users are observed in the 60+ age group. This right-skewed distribution highlights a stronger preference for Divvy bikes among younger demographics.  \n",
    "\n",
    "***\n",
    "\n",
    "4. **Popular Stations and Routes**:  \n",
    "   - **Start and End Stations**: Clinton St & Washington Blvd is the most popular starting and ending location, followed by Clinton St & Madison St and Canal St & Adams St. These stations' central locations indicate their importance in facilitating urban commutes.  \n",
    "   - **Most Popular Routes**: Routes connecting major business and commuter hubs, such as Michigan Ave & Washington St to Clinton St & Washington Blvd, are highly utilized. This highlights the efficiency of Divvy bikes in supporting short downtown trips.  \n",
    "\n",
    "***\n",
    "\n",
    "5. **Underutilized Stations and Routes**:  \n",
    "   - **Start and End Stations**: State St & 76th St is the least popular starting station, followed by Kostner Ave & Lake St and South Chicago Ave & Elliot Ave. Similarly, Halsted St & 69th St is the least popular ending station, with Phillips Ave & 79th St and State St & 76th St also recording low usage. These stations are situated away from central areas, possibly contributing to their underutilization.  \n",
    "   - **Least Popular Routes**: Routes such as Keystone Ave & Fullerton Ave to Central Park Ave & North Ave and Larrabee St & Kingsbury St to Pine Grove Ave & Irving Park Rd see minimal traffic. These routes, connecting less frequented areas, indicate lower demand or limited appeal for users compared to busier urban routes.  \n",
    "\n",
    "***\n",
    "\n",
    "6. **Bike Utilization**:  \n",
    "   - The top 10 bikes in the fleet each recorded over 200 trips, showcasing their heavy usage and reliability. This suggests that a subset of the fleet is consistently utilized more than others.  \n",
    "\n",
    "***\n",
    "\n",
    "7. **Age and Trip Duration Relationship**:  \n",
    "   - There is no strong correlation between user age and trip duration. Most trips last between 0 and 60 minutes regardless of age. The red horizontal line at 10 minutes represents a potential average duration, but the lack of a clear trend indicates that trip duration is largely independent of user age.  \n"
   ]
  },
  {
   "cell_type": "markdown",
   "metadata": {},
   "source": [
    "Based on the key trends and findings, here are actionable recommendations to enhance Divvy’s overall service and functionality:\n",
    "\n",
    "***\n",
    "\n",
    "1. **Addressing Gender Disparity**:  \n",
    "   - **Targeted Outreach**: Develop marketing campaigns tailored to female riders, promoting bike safety, convenience, and health benefits.  \n",
    "   - **Safety Enhancements**: Improve bike lanes, lighting, and parking security, as these factors could encourage more female participation.  \n",
    "   - **Community Engagement**: Partner with organizations or host events focused on empowering women to use Divvy bikes.\n",
    "\n",
    "***\n",
    "\n",
    "2. **Improving Casual User Experience**:  \n",
    "   - **Flexible Pricing Models**: Introduce affordable short-term packages for casual users, such as discounted weekend passes or hourly rates.  \n",
    "   - **Leisure-Focused Features**: Highlight scenic routes, parks, or local attractions for customers who tend to take longer, leisure-oriented trips.  \n",
    "\n",
    "***\n",
    "\n",
    "3. **Optimizing Station Placement and Utilization**:  \n",
    "   - **Redeploy Underutilized Stations**: Consider relocating or adding features at low-demand stations (e.g., State St & 76th St) to boost usage. This may involve connecting these areas to popular routes or improving accessibility.  \n",
    "   - **Station Improvements**: Add amenities like bike repair kits, better signage, or nearby public transit connections to underperforming stations.  \n",
    "\n",
    "***\n",
    "\n",
    "4. **Enhancing Temporal Accessibility**:  \n",
    "   - **Off-Peak Incentives**: Offer discounted rates during late-night or early-morning hours (12 AM to 5 AM) to encourage usage beyond commute times.  \n",
    "   - **Weekend Promotions**: Launch campaigns promoting weekend rides, emphasizing leisure and family-friendly activities.  \n",
    "\n",
    "***\n",
    "\n",
    "5. **Improving Fleet Utilization**:  \n",
    "   - **Maintenance of High-Usage Bikes**: Regularly inspect and maintain the most frequently used bikes to ensure reliability and safety.  \n",
    "   - **Rebalance Bike Distribution**: Use predictive algorithms to balance bike availability across stations, minimizing shortages during peak hours.  \n",
    "\n",
    "***\n",
    "\n",
    "6. **Engaging Younger and Older Demographics**:  \n",
    "   - **Youth Outreach**: Partner with schools, universities, or youth organizations to promote Divvy bikes as an affordable transportation option.  \n",
    "   - **Senior Programs**: Introduce age-friendly programs, such as shorter rides or group rides for older users, to encourage participation among the 60+ age group.  \n",
    "\n",
    "***\n",
    "\n",
    "7. **Route Optimization and Expansion**:  \n",
    "   - **Connect Popular Routes to Underutilized Areas**: Integrate least popular routes and stations (e.g., Keystone Ave & Fullerton Ave) with highly trafficked areas to boost connectivity.  \n",
    "   - **Interactive Route Planning**: Offer an app feature that suggests optimal routes based on user preferences, such as shortest time, scenic views, or low-traffic areas.  \n",
    "\n",
    "***\n",
    "\n",
    "9. **Trip Duration and User Behavior**:  \n",
    "   - **Education and Tips for Shorter Trips**: Encourage users to take shorter trips through app reminders, particularly during peak hours, to ensure bike availability.  \n",
    "   - **Long-Trip Support**: For customers who take longer trips, provide recommendations for hydration stations or bike repair spots along their route.  \n"
   ]
  },
  {
   "cell_type": "markdown",
   "metadata": {},
   "source": [
    "## PCA and Cluster Analysis of Divvy Bike Trips (Q1 2019)"
   ]
  },
  {
   "cell_type": "markdown",
   "metadata": {},
   "source": [
    "![15](img/15.png)"
   ]
  },
  {
   "cell_type": "markdown",
   "metadata": {},
   "source": [
    "**Overview**  \n",
    "\n",
    "This analysis explores the clustering of Divvy bike trips using the K-means algorithm, based on two key features:  \n",
    "- **Start Hour**: The time of day a trip began (ranging from 0 to 23, where 0 is midnight).  \n",
    "- **Trip Duration**: The length of each trip, capped at 1000 minutes during preprocessing.  \n",
    "\n",
    "The clustering divides the dataset into four groups, visualized in the scatter plot below. Each trip is represented as a point, colored according to its assigned cluster.  "
   ]
  },
  {
   "cell_type": "markdown",
   "metadata": {},
   "source": [
    "---\n",
    "\n",
    "**Cluster Summary**  \n",
    "\n",
    "1. **Cluster 0 (Purple)**:  \n",
    "   - Represents trips across all hours of the day.  \n",
    "   - Primarily consists of longer trip durations (800–1000 minutes).  \n",
    "   - Likely captures outliers, such as extended leisure trips or potential data anomalies.  \n",
    "\n",
    "2. **Cluster 1 (Teal)**:  \n",
    "   - Spread across all start hours.  \n",
    "   - Typically includes trips with moderate durations (100–400 minutes).  \n",
    "   - Likely reflects a mix of commuter and casual users taking medium-length trips.  \n",
    "\n",
    "3. **Cluster 2 (Green)**:  \n",
    "   - Dense distribution across all hours of the day.  \n",
    "   - Composed of trips with durations ranging between 200–600 minutes.  \n",
    "   - Likely represents the majority of routine trips taken by regular users.  \n",
    "\n",
    "4. **Cluster 3 (Yellow)**:  \n",
    "   - Covers all start hours but focuses on shorter trip durations (0–300 minutes).  \n",
    "   - Likely includes quick trips, possibly taken by commuters or frequent riders.  \n",
    "\n",
    "---\n",
    "\n",
    "**Key Insights**  \n",
    "- **Uniform Temporal Patterns**: The clustering reveals that trip duration does not vary significantly with start hour, indicating consistent usage patterns throughout the day.  \n",
    "- **Short Trips Dominate**: Clusters `2` (green) and `3` (yellow) are densely populated with trips of shorter durations, suggesting most users take quick trips.  \n",
    "- **Outliers in Cluster 0**: Sparse distribution of points in cluster `0` (purple) highlights trips with unusually long durations. These may warrant further investigation to identify whether they represent genuine trips or data inconsistencies.  \n",
    "\n",
    "---\n",
    "\n",
    "**Conclusion**  \n",
    "The clustering analysis provides valuable insights into trip duration and time-of-day usage patterns among Divvy bike users. By expanding the analysis with additional features and deeper exploration of outliers, we can uncover further behavioral trends and optimize service delivery.  "
   ]
  },
  {
   "cell_type": "markdown",
   "metadata": {},
   "source": [
    "![16](img/16.png)"
   ]
  },
  {
   "cell_type": "markdown",
   "metadata": {},
   "source": [
    "**Overview:**\n",
    "We applied **Principal Component Analysis (PCA)** to the dataset, focusing on the following features: `tripduration`, `start_hour`, and `age`. PCA was used to reduce the dimensionality of the dataset to 2 principal components (PC1 and PC2) while preserving as much of the data’s variance as possible. We then visualized the results in a 2D scatter plot, which shows the distribution of the data in the space of the first two principal components."
   ]
  },
  {
   "cell_type": "markdown",
   "metadata": {},
   "source": [
    "**Explained Variance:**\n",
    "The explained variance ratio for the first two principal components is as follows:\n",
    "\n",
    "- **PC1** explains **36.34%** of the total variance in the data.\n",
    "- **PC2** explains **33.92%** of the total variance.\n",
    "\n",
    "Together, these two components capture **70.26%** of the total variance, meaning that most of the information in the original data is retained by just these two components. This makes the 2D visualization an effective representation of the data without significant loss of information.\n",
    "\n",
    "**Scatter Plot Analysis:**\n",
    "The scatter plot visualizes the data points based on the first two principal components (PC1 and PC2), which represent the most significant axes of variation in the dataset. The following observations can be made:\n",
    "\n",
    "- **Clusters**: The data points appear to group into distinct clusters, which may correspond to different patterns in trip behavior, such as variations in trip duration or age-related patterns. These clusters indicate that trips with similar characteristics tend to form natural groupings in the PCA-reduced space.\n",
    "- **Separation along Axes**: The x-axis represents **PC1**, which explains the largest portion of variance in the data, while the y-axis represents **PC2**, explaining the second-largest portion of variance. The spread of the points along these axes suggests that the key features driving the variability in the dataset are **tripduration**, **start_hour**, and **age**.\n",
    "- **Clusters (if applicable)**: If clustering was performed (e.g., K-means), the points might be color-coded according to the assigned clusters. This allows for an easy interpretation of how the clusters relate to the principal components and whether distinct patterns or groups exist within the dataset.\n",
    "\n",
    "**Insights:**\n",
    "- **Dimensionality Reduction**: By reducing the dimensionality from multiple features (such as `tripduration`, `start_hour`, `age`) to just two principal components, we can effectively summarize the key patterns in the data.\n",
    "- **Data Patterns**: The 2D scatter plot makes it easier to identify relationships between different features and groups. For example, if trip duration (`tripduration`) is positively correlated with PC1, and age (`age`) is correlated with PC2, we can infer that trips with longer durations might be associated with older users, or that time of day (represented by `start_hour`) could have an effect on trip behavior.\n",
    "  \n",
    "**Conclusion:**\n",
    "The results of the PCA suggest that **PC1 and PC2** capture most of the important variation in the data (over 70%), and the visualization helps to identify potential clusters and underlying relationships in the data. The PCA technique is a useful tool for dimensionality reduction and pattern identification in complex datasets like this one, providing valuable insights into trip behavior without losing significant amounts of information.\n"
   ]
  },
  {
   "cell_type": "markdown",
   "metadata": {},
   "source": [
    "## Divvy Trips 2019 (Full Year) Analysis, Insights and Recommendations:"
   ]
  },
  {
   "cell_type": "markdown",
   "metadata": {},
   "source": [
    "![13](img/13.png)"
   ]
  },
  {
   "cell_type": "markdown",
   "metadata": {},
   "source": [
    "**Findings**\n",
    "\n",
    "1. **Q1 (January–March):**\n",
    "   - The number of riders steadily increases from January to March.\n",
    "   - March shows a significant rise compared to January and February.\n",
    "\n",
    "2. **Q2 (April–June):**\n",
    "   - There is a sharp increase in ridership in April compared to March, with further growth in May and June.\n",
    "   - June marks the highest ridership of Q2.\n",
    "\n",
    "3. **Q3 (July–September):**\n",
    "   - The peak ridership occurs in Q3, with all three months (July, August, September) showing consistently high and nearly equal ridership numbers.\n",
    "\n",
    "4. **Q4 (October–December):**\n",
    "   - There is a decline in October compared to Q3, followed by a steady decrease in November and December.\n",
    "   - December records the lowest ridership of Q4.\n"
   ]
  },
  {
   "cell_type": "markdown",
   "metadata": {},
   "source": [
    "**Analysis**\n",
    "\n",
    "1. **Seasonal Trends:**\n",
    "   - Ridership increases consistently from Q1 to Q3, peaking in the summer months (Q3).\n",
    "   - There is a noticeable decline in Q4, indicating a seasonal or weather-related impact on ridership.\n",
    "\n",
    "2. **Peak Performance:**\n",
    "   - The highest ridership is observed in Q3 (summer months), suggesting that more people use the service during this period, likely due to favorable weather and potential travel or recreational activities.\n",
    "\n",
    "3. **Low Performance:**\n",
    "   - Ridership in Q1 (winter months) and the latter part of Q4 (December) is significantly lower, possibly due to colder weather and reduced travel activity.\n"
   ]
  },
  {
   "cell_type": "markdown",
   "metadata": {},
   "source": [
    "**Suggestions**\n",
    "\n",
    "1. **Targeted Promotions:**\n",
    "   - **Q1 and Q4:** Introduce promotional campaigns, discounts, or bundled offers to encourage ridership during these low-demand periods.\n",
    "   - Consider partnerships with holiday events in Q4 to attract more users.\n",
    "\n",
    "2. **Capacity Management:**\n",
    "   - **Q3:** Ensure adequate resources, such as more vehicles or extended service hours, to accommodate the increased demand during peak months.\n",
    "   - **Q1:** Optimize operations to reduce costs during months with lower ridership.\n",
    "\n",
    "3. **Data-Driven Planning:**\n",
    "   - Analyze additional factors (e.g., weather, special events) to refine service strategies.\n",
    "   - Investigate the reasons for the sharp increase in ridership in March and Q3, and replicate those strategies in other months.\n",
    "\n",
    "4. **Customer Engagement:**\n",
    "   - Conduct surveys to understand customer needs during low-demand periods and address any barriers to ridership, such as weather, convenience, or pricing concerns."
   ]
  },
  {
   "cell_type": "markdown",
   "metadata": {},
   "source": [
    "***\n",
    "\n",
    "## End"
   ]
  }
 ],
 "metadata": {
  "language_info": {
   "name": "python"
  }
 },
 "nbformat": 4,
 "nbformat_minor": 2
}
