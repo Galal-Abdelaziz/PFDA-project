{
 "cells": [
  {
   "cell_type": "markdown",
   "metadata": {},
   "source": [
    "![Banner](img/divvy.jpg)"
   ]
  },
  {
   "cell_type": "markdown",
   "metadata": {},
   "source": [
    "![1](img/1.png)"
   ]
  },
  {
   "cell_type": "markdown",
   "metadata": {},
   "source": [
    "This chart displays the distribution of Divvy bike trips between **Male** and **Female** riders. Male riders significantly outnumber female riders in terms of trip frequency, indicating a potential gender disparity in Divvy bike usage."
   ]
  },
  {
   "cell_type": "markdown",
   "metadata": {},
   "source": [
    "![2](img/2.png)"
   ]
  },
  {
   "cell_type": "markdown",
   "metadata": {},
   "source": [
    "This chart highlights the distribution of Divvy bike trips based on user type. **Subscribers** account for the overwhelming majority of trips, while casual **Customers** represent a small fraction. This suggests that regular, subscription-based users dominate the service's utilization."
   ]
  },
  {
   "cell_type": "markdown",
   "metadata": {},
   "source": [
    "![3](img/3.png)\n"
   ]
  },
  {
   "cell_type": "markdown",
   "metadata": {},
   "source": [
    "This chart highlights the average trip duration based on user gender. **Female** users have an average trip duration of approximately **15 minutes**, while **Male** users average around **14 minutes**. This suggests that female users tend to have slightly longer trips compared to male users."
   ]
  },
  {
   "cell_type": "markdown",
   "metadata": {},
   "source": [
    "![4](img/4.png)"
   ]
  },
  {
   "cell_type": "markdown",
   "metadata": {},
   "source": [
    "This chart highlights the average trip duration based on user type. **Customers** have a significantly longer average trip duration of approximately 36 minutes, while **Subscribers** average around 12 minutes. This suggests that casual, non-subscriber users tend to take longer trips compared to regular, subscription-based users."
   ]
  },
  {
   "cell_type": "markdown",
   "metadata": {},
   "source": [
    "![5](img/5.png)\n"
   ]
  },
  {
   "cell_type": "markdown",
   "metadata": {},
   "source": [
    "The chart shows the distribution of Divvy bike trips across the days of the week. **Weekdays**, particularly Thursday and Friday, see the highest number of trips, indicating a strong correlation with commuter or workday usage. In contrast, **weekends** (Saturday and Sunday) exhibit a noticeable decline in bike usage, suggesting less frequent trips during leisure days."
   ]
  },
  {
   "cell_type": "markdown",
   "metadata": {},
   "source": [
    "![6](img/6.png)\n"
   ]
  },
  {
   "cell_type": "markdown",
   "metadata": {},
   "source": [
    "This chart highlights the peak usage times for Divvy bikes. The highest bike usage occurs at 17:00 (5 PM), with nearly 50,000 trips. A significant surge is also seen at 8:00 (8 AM), with around 35,000 trips. After the 17:00 peak, usage decreases steadily, becoming minimal after 21:00 (9 PM). Moderate usage is recorded between 10:00 (10 AM) and 14:00 (2 PM), while early morning hours (0:00 to 5:00) show very low usage."
   ]
  },
  {
   "cell_type": "markdown",
   "metadata": {},
   "source": [
    "![7](img/7.png)\n"
   ]
  },
  {
   "cell_type": "markdown",
   "metadata": {},
   "source": [
    "This chart highlights the peak trip times for Divvy bike riders segmented by gender. Female riders exhibit a moderate peak at 07:00 (7 AM) and another noticeable peak at 17:00 (5 PM). Male riders show a significant peak at 08:00 (8 AM), followed by another prominent surge at 17:00 (5 PM). Overall, males have a higher number of trips compared to females, particularly during these peak commute hours. Both genders demonstrate trip patterns concentrated around typical morning and evening commute times.\n"
   ]
  },
  {
   "cell_type": "markdown",
   "metadata": {},
   "source": [
    "![8](img/8.png)\n"
   ]
  },
  {
   "cell_type": "markdown",
   "metadata": {},
   "source": [
    "This chart highlights the age distribution of Divvy bike users. The largest user group is in their early 30s, with a peak around age 30. The distribution is right-skewed, indicating a higher concentration of younger users compared to older ones. Users range in age from approximately 20 to 80 years, with a noticeable decline in the number of users as age increases beyond 40. Fewer users are found in the 60+ age group.\n"
   ]
  },
  {
   "cell_type": "markdown",
   "metadata": {},
   "source": [
    "![9](img/9.png)\n"
   ]
  },
  {
   "cell_type": "markdown",
   "metadata": {},
   "source": [
    "This chart highlights the **most frequently used bikes** in Q1 2019. Each bar represents a specific Bike ID and the number of trips it completed during the first quarter. The top ten bikes all recorded over 200 trips, showcasing their heavy utilization compared to other bikes in the fleet. This visualization underscores the demand and efficiency of these high-performing bikes within the Divvy system.\n"
   ]
  },
  {
   "cell_type": "markdown",
   "metadata": {},
   "source": [
    "![10](img/10.png)\n"
   ]
  },
  {
   "cell_type": "markdown",
   "metadata": {},
   "source": [
    "The first plot highlights the **most popular start stations** for Divvy bike trips in Q1 2019. **Clinton St & Washington Blvd** stands out as the top starting location, followed by **Clinton St & Madison St** and **Canal St & Adams St**. These stations are primarily located in central business districts, indicating their popularity among commuters and urban travelers.\n",
    "\n",
    "The second plot showcases the **most popular end stations**, which largely mirror the trends seen in the starting stations. **Clinton St & Washington Blvd** is again the most frequent destination, followed by **Clinton St & Madison St** and **Canal St & Adams St**. This consistency suggests that many trips begin and end in central hubs, emphasizing their importance in the Divvy network.\n",
    "\n",
    "The third plot focuses on the **most popular routes** during Q1 2019. The route from **Michigan Ave & Washington St** to **Clinton St & Washington Blvd** ranks as the most frequently traveled. Other highly used routes also connect central locations, reflecting a strong demand for short commutes within downtown areas. These patterns underline the role of Divvy bikes in facilitating urban mobility.\n"
   ]
  },
  {
   "cell_type": "markdown",
   "metadata": {},
   "source": [
    "![11](img/11.png)\n"
   ]
  },
  {
   "cell_type": "markdown",
   "metadata": {},
   "source": [
    "The first plot highlights the **least popular start stations** for Divvy bike trips in the provided data. **State St & 76th St** recorded the lowest number of trips, followed by **Kostner Ave & Lake St** and **South Chicago Ave & Elliot Ave**. Other underutilized start stations include **Ashland Ave & Garfield Blvd** and **Central Ave & Chicago Ave**. These locations are situated away from central business districts, which may explain their lower usage.\n",
    "\n",
    "The second plot showcases the **least popular end stations**, which exhibit similar trends to the start stations. **Halsted St & 69th St** recorded the fewest trips, followed by **Phillips Ave & 79th St** and **State St & 76th St**. Other low-usage end stations include **Vernon Ave & 79th St** and **Ashland Ave & Garfield Blvd**, indicating that these areas may lack strong demand or connectivity within the Divvy network.\n",
    "\n",
    "The third plot focuses on the **least popular routes** within the system. The route from **Keystone Ave & Fullerton Ave** to **Central Park Ave & North Ave** ranks as the least traveled, followed by routes such as **Larrabee St & Kingsbury St** to **Pine Grove Ave & Irving Park Rd** and **Clinton St & Jackson Blvd** to **Indiana Ave & 40th St**. Other rarely used routes include **Central St & Girard Ave** to **Eastlake Ter & Rogers Ave** and **Calumet Ave & 18th St** to **Clark St & Elm St**. These patterns suggest that these routes may not align well with user needs or popular destinations.\n"
   ]
  },
  {
   "cell_type": "markdown",
   "metadata": {},
   "source": [
    "![12](img/12.png)"
   ]
  },
  {
   "cell_type": "markdown",
   "metadata": {},
   "source": [
    "This plot illustrates the relationship between user age (in years) and trip duration (in minutes). The data points are spread across a wide range of ages and trip durations, with the majority of trips clustered between 0 and 60 minutes. Despite this, there is no clear upward or downward trend in the scatter of points, suggesting that age does not have a strong influence on trip duration. A red horizontal line at around 10 minutes highlights a potential reference or average trip duration, but overall, the plot indicates that age and trip duration are not strongly correlated."
   ]
  },
  {
   "cell_type": "markdown",
   "metadata": {},
   "source": [
    "![13](img/13.png)"
   ]
  },
  {
   "cell_type": "markdown",
   "metadata": {},
   "source": [
    "**Findings**\n",
    "\n",
    "1. **Q1 (January–March):**\n",
    "   - The number of riders steadily increases from January to March.\n",
    "   - March shows a significant rise compared to January and February.\n",
    "\n",
    "2. **Q2 (April–June):**\n",
    "   - There is a sharp increase in ridership in April compared to March, with further growth in May and June.\n",
    "   - June marks the highest ridership of Q2.\n",
    "\n",
    "3. **Q3 (July–September):**\n",
    "   - The peak ridership occurs in Q3, with all three months (July, August, September) showing consistently high and nearly equal ridership numbers.\n",
    "\n",
    "4. **Q4 (October–December):**\n",
    "   - There is a decline in October compared to Q3, followed by a steady decrease in November and December.\n",
    "   - December records the lowest ridership of Q4.\n"
   ]
  },
  {
   "cell_type": "markdown",
   "metadata": {},
   "source": [
    "**Analysis**\n",
    "\n",
    "1. **Seasonal Trends:**\n",
    "   - Ridership increases consistently from Q1 to Q3, peaking in the summer months (Q3).\n",
    "   - There is a noticeable decline in Q4, indicating a seasonal or weather-related impact on ridership.\n",
    "\n",
    "2. **Peak Performance:**\n",
    "   - The highest ridership is observed in Q3 (summer months), suggesting that more people use the service during this period, likely due to favorable weather and potential travel or recreational activities.\n",
    "\n",
    "3. **Low Performance:**\n",
    "   - Ridership in Q1 (winter months) and the latter part of Q4 (December) is significantly lower, possibly due to colder weather and reduced travel activity.\n"
   ]
  },
  {
   "cell_type": "markdown",
   "metadata": {},
   "source": [
    "**Suggestions**\n",
    "\n",
    "1. **Targeted Promotions:**\n",
    "   - **Q1 and Q4:** Introduce promotional campaigns, discounts, or bundled offers to encourage ridership during these low-demand periods.\n",
    "   - Consider partnerships with holiday events in Q4 to attract more users.\n",
    "\n",
    "2. **Capacity Management:**\n",
    "   - **Q3:** Ensure adequate resources, such as more vehicles or extended service hours, to accommodate the increased demand during peak months.\n",
    "   - **Q1:** Optimize operations to reduce costs during months with lower ridership.\n",
    "\n",
    "3. **Data-Driven Planning:**\n",
    "   - Analyze additional factors (e.g., weather, special events) to refine service strategies.\n",
    "   - Investigate the reasons for the sharp increase in ridership in March and Q3, and replicate those strategies in other months.\n",
    "\n",
    "4. **Customer Engagement:**\n",
    "   - Conduct surveys to understand customer needs during low-demand periods and address any barriers to ridership, such as weather, convenience, or pricing concerns."
   ]
  },
  {
   "cell_type": "markdown",
   "metadata": {},
   "source": [
    "***\n",
    "\n",
    "## End"
   ]
  }
 ],
 "metadata": {
  "language_info": {
   "name": "python"
  }
 },
 "nbformat": 4,
 "nbformat_minor": 2
}
